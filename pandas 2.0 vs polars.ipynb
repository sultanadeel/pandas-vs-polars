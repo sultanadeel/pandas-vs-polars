{
 "cells": [
  {
   "cell_type": "markdown",
   "id": "b2a362a0",
   "metadata": {},
   "source": [
    "<img src=\"https://mma.prnewswire.com/media/617186/Pearson_Logo.jpg\" width=\"400\" height=\"400\" align=\"center\"/>"
   ]
  },
  {
   "cell_type": "markdown",
   "id": "ec6ea5b8",
   "metadata": {},
   "source": [
    "<img src=\"https://images.datacamp.com/image/upload/v1686564840/datarhys_an_absurdist_oil_painting_of_a_cyborg_panda_and_a_cybo_c7deba5e_79f3_498a_ada9_381d6fe0b77a_b943fa043f.png\" width=\"600\" height=\"400\" align=\"center\"/>"
   ]
  },
  {
   "cell_type": "markdown",
   "id": "9e3236b8",
   "metadata": {},
   "source": [
    "# <center>Pandas vs Polars Data Analysis </center>"
   ]
  },
  {
   "cell_type": "code",
   "execution_count": 2,
   "id": "5c52f651",
   "metadata": {},
   "outputs": [
    {
     "name": "stdout",
     "output_type": "stream",
     "text": [
      "Collecting polars\n",
      "  Using cached polars-0.20.6-cp38-abi3-macosx_11_0_arm64.whl (25.3 MB)\n",
      "Installing collected packages: polars\n",
      "Successfully installed polars-0.20.6\n",
      "Note: you may need to restart the kernel to use updated packages.\n"
     ]
    }
   ],
   "source": [
    "pip install polars\n"
   ]
  },
  {
   "cell_type": "code",
   "execution_count": 46,
   "id": "9c4c9269",
   "metadata": {},
   "outputs": [
    {
     "name": "stdout",
     "output_type": "stream",
     "text": [
      "Collecting pandas==2.0.0\n",
      "  Downloading pandas-2.0.0-cp311-cp311-macosx_11_0_arm64.whl (10.7 MB)\n",
      "\u001b[2K     \u001b[90m━━━━━━━━━━━━━━━━━━━━━━━━━━━━━━━━━━━━━━━━\u001b[0m \u001b[32m10.7/10.7 MB\u001b[0m \u001b[31m4.3 MB/s\u001b[0m eta \u001b[36m0:00:00\u001b[0m00:01\u001b[0m00:01\u001b[0m\n",
      "\u001b[?25hRequirement already satisfied: python-dateutil>=2.8.2 in ./anaconda3/lib/python3.11/site-packages (from pandas==2.0.0) (2.8.2)\n",
      "Requirement already satisfied: pytz>=2020.1 in ./anaconda3/lib/python3.11/site-packages (from pandas==2.0.0) (2022.7)\n",
      "Collecting tzdata>=2022.1 (from pandas==2.0.0)\n",
      "  Downloading tzdata-2023.4-py2.py3-none-any.whl (346 kB)\n",
      "\u001b[2K     \u001b[90m━━━━━━━━━━━━━━━━━━━━━━━━━━━━━━━━━━━━━━━\u001b[0m \u001b[32m346.6/346.6 kB\u001b[0m \u001b[31m2.6 MB/s\u001b[0m eta \u001b[36m0:00:00\u001b[0ma \u001b[36m0:00:01\u001b[0m\n",
      "\u001b[?25hRequirement already satisfied: numpy>=1.21.0 in ./anaconda3/lib/python3.11/site-packages (from pandas==2.0.0) (1.24.3)\n",
      "Requirement already satisfied: six>=1.5 in ./anaconda3/lib/python3.11/site-packages (from python-dateutil>=2.8.2->pandas==2.0.0) (1.16.0)\n",
      "Installing collected packages: tzdata, pandas\n",
      "  Attempting uninstall: pandas\n",
      "    Found existing installation: pandas 1.5.3\n",
      "    Uninstalling pandas-1.5.3:\n",
      "      Successfully uninstalled pandas-1.5.3\n",
      "Successfully installed pandas-2.0.0 tzdata-2023.4\n",
      "Note: you may need to restart the kernel to use updated packages.\n"
     ]
    }
   ],
   "source": [
    "pip install pandas==2.0.0"
   ]
  },
  {
   "cell_type": "code",
   "execution_count": 7,
   "id": "620a4017",
   "metadata": {},
   "outputs": [],
   "source": [
    "import polars as pl\n",
    "import pandas as pd\n",
    "import numpy as np\n",
    "import seaborn as sns\n",
    "import matplotlib.pyplot as plt\n",
    "import time\n",
    "from string import ascii_letters\n",
    "import random\n",
    "\n",
    "sns.set()\n"
   ]
  },
  {
   "cell_type": "markdown",
   "id": "15fb7d5c",
   "metadata": {},
   "source": [
    "### Creating a dataframe"
   ]
  },
  {
   "cell_type": "code",
   "execution_count": 8,
   "id": "b5b18459",
   "metadata": {},
   "outputs": [],
   "source": [
    "df = pl.DataFrame({\n",
    "    'name': ['John', 'Sara', 'Jack'],\n",
    "    'age': [23, 21, 25]\n",
    "})"
   ]
  },
  {
   "cell_type": "markdown",
   "id": "189a9e05",
   "metadata": {},
   "source": [
    "### Reading a dataframe as lazy"
   ]
  },
  {
   "cell_type": "code",
   "execution_count": 18,
   "id": "3a0c2d3e",
   "metadata": {},
   "outputs": [
    {
     "name": "stdout",
     "output_type": "stream",
     "text": [
      "shape: (3, 2)\n",
      "┌──────┬─────┐\n",
      "│ name ┆ age │\n",
      "│ ---  ┆ --- │\n",
      "│ str  ┆ i64 │\n",
      "╞══════╪═════╡\n",
      "│ John ┆ 23  │\n",
      "│ Sara ┆ 21  │\n",
      "│ Jack ┆ 25  │\n",
      "└──────┴─────┘\n"
     ]
    }
   ],
   "source": [
    "lazy_df = pl.LazyFrame(df)\n",
    "print(lazy_df.collect())"
   ]
  },
  {
   "cell_type": "markdown",
   "id": "70ac161c",
   "metadata": {},
   "source": [
    "### Manipulating a dataframe "
   ]
  },
  {
   "cell_type": "code",
   "execution_count": 19,
   "id": "c4fe3be2",
   "metadata": {},
   "outputs": [
    {
     "name": "stdout",
     "output_type": "stream",
     "text": [
      "shape: (3, 1)\n",
      "┌──────┐\n",
      "│ name │\n",
      "│ ---  │\n",
      "│ str  │\n",
      "╞══════╡\n",
      "│ John │\n",
      "│ Sara │\n",
      "│ Jack │\n",
      "└──────┘\n"
     ]
    }
   ],
   "source": [
    "new_df = df.select(['name'])\n",
    "print(new_df)"
   ]
  },
  {
   "cell_type": "markdown",
   "id": "e9418d98",
   "metadata": {},
   "source": [
    "### Merging two dataframes in Polars"
   ]
  },
  {
   "cell_type": "code",
   "execution_count": 20,
   "id": "fedd900b",
   "metadata": {},
   "outputs": [
    {
     "name": "stdout",
     "output_type": "stream",
     "text": [
      "shape: (3, 3)\n",
      "┌──────┬─────┬──────────┐\n",
      "│ name ┆ age ┆ city     │\n",
      "│ ---  ┆ --- ┆ ---      │\n",
      "│ str  ┆ i64 ┆ str      │\n",
      "╞══════╪═════╪══════════╡\n",
      "│ John ┆ 23  ┆ New York │\n",
      "│ Sara ┆ 21  ┆ Paris    │\n",
      "│ Jack ┆ 25  ┆ London   │\n",
      "└──────┴─────┴──────────┘\n"
     ]
    }
   ],
   "source": [
    "df1 = pl.DataFrame({\n",
    "    'name': ['John', 'Sara', 'Jack'],\n",
    "    'age': [23, 21, 25]\n",
    "})\n",
    "\n",
    "df2 = pl.DataFrame({\n",
    "    'name': ['John', 'Sara', 'Jack'],\n",
    "    'city': ['New York', 'Paris', 'London']\n",
    "})\n",
    "\n",
    "merged_df = df1.join(df2, on='name')\n",
    "print(merged_df)"
   ]
  },
  {
   "cell_type": "markdown",
   "id": "51649f3d",
   "metadata": {},
   "source": [
    "### Handling Missing Values"
   ]
  },
  {
   "cell_type": "code",
   "execution_count": 24,
   "id": "618ce461",
   "metadata": {},
   "outputs": [
    {
     "name": "stdout",
     "output_type": "stream",
     "text": [
      "shape: (1, 2)\n",
      "┌──────┬─────┐\n",
      "│ name ┆ age │\n",
      "│ ---  ┆ --- │\n",
      "│ str  ┆ i64 │\n",
      "╞══════╪═════╡\n",
      "│ John ┆ 23  │\n",
      "└──────┴─────┘\n"
     ]
    }
   ],
   "source": [
    "df = pl.DataFrame({\n",
    "    'name': ['John', 'Sara', None],\n",
    "    'age': [23, None, 25]\n",
    "})\n",
    "\n",
    "filled_df = df.drop_nulls()\n",
    "print(filled_df)"
   ]
  },
  {
   "cell_type": "markdown",
   "id": "80d6414a",
   "metadata": {},
   "source": [
    "### Applying Functions "
   ]
  },
  {
   "cell_type": "code",
   "execution_count": 33,
   "id": "7b633193",
   "metadata": {},
   "outputs": [
    {
     "name": "stdout",
     "output_type": "stream",
     "text": [
      "shape: (3, 3)\n",
      "┌──────┬─────┬──────────────┐\n",
      "│ name ┆ age ┆ age_plus_ten │\n",
      "│ ---  ┆ --- ┆ ---          │\n",
      "│ str  ┆ i64 ┆ i64          │\n",
      "╞══════╪═════╪══════════════╡\n",
      "│ John ┆ 23  ┆ 33           │\n",
      "│ Sara ┆ 21  ┆ 31           │\n",
      "│ Jack ┆ 25  ┆ 35           │\n",
      "└──────┴─────┴──────────────┘\n"
     ]
    },
    {
     "name": "stderr",
     "output_type": "stream",
     "text": [
      "/var/folders/sz/bnngcgwd3n50tz13wnb4rzbc0000gn/T/ipykernel_59071/2048929546.py:9: DeprecationWarning: `apply` is deprecated. It has been renamed to `map_elements`.\n",
      "  df = df.with_columns(df['age'].apply(add_ten).alias('age_plus_ten'))\n",
      "/var/folders/sz/bnngcgwd3n50tz13wnb4rzbc0000gn/T/ipykernel_59071/2048929546.py:9: PolarsInefficientMapWarning: \n",
      "Series.map_elements is significantly slower than the native series API.\n",
      "Only use if you absolutely CANNOT implement your logic otherwise.\n",
      "Replace this expression...\n",
      "  - s.map_elements(add_ten)\n",
      "with this one instead:\n",
      "  + s + 10\n",
      "\n",
      "  df = df.with_columns(df['age'].apply(add_ten).alias('age_plus_ten'))\n"
     ]
    }
   ],
   "source": [
    "df = pl.DataFrame({\n",
    "    'name': ['John', 'Sara', 'Jack'],\n",
    "    'age': [23, 21, 25]\n",
    "})\n",
    "\n",
    "def add_ten(x):\n",
    "    return x + 10\n",
    "\n",
    "df = df.with_columns(df['age'].apply(add_ten).alias('age_plus_ten'))\n",
    "print(df)"
   ]
  },
  {
   "cell_type": "markdown",
   "id": "68e0d95a",
   "metadata": {},
   "source": [
    "### Loading a diamond dataset"
   ]
  },
  {
   "cell_type": "code",
   "execution_count": 35,
   "id": "8687c175",
   "metadata": {},
   "outputs": [
    {
     "data": {
      "text/html": [
       "<div><style>\n",
       ".dataframe > thead > tr,\n",
       ".dataframe > tbody > tr {\n",
       "  text-align: right;\n",
       "  white-space: pre-wrap;\n",
       "}\n",
       "</style>\n",
       "<small>shape: (5, 8)</small><table border=\"1\" class=\"dataframe\"><thead><tr><th>Carat Weight</th><th>Cut</th><th>Color</th><th>Clarity</th><th>Polish</th><th>Symmetry</th><th>Report</th><th>Price</th></tr><tr><td>f64</td><td>str</td><td>str</td><td>str</td><td>str</td><td>str</td><td>str</td><td>i64</td></tr></thead><tbody><tr><td>1.1</td><td>&quot;Ideal&quot;</td><td>&quot;H&quot;</td><td>&quot;SI1&quot;</td><td>&quot;VG&quot;</td><td>&quot;EX&quot;</td><td>&quot;GIA&quot;</td><td>5169</td></tr><tr><td>0.83</td><td>&quot;Ideal&quot;</td><td>&quot;H&quot;</td><td>&quot;VS1&quot;</td><td>&quot;ID&quot;</td><td>&quot;ID&quot;</td><td>&quot;AGSL&quot;</td><td>3470</td></tr><tr><td>0.85</td><td>&quot;Ideal&quot;</td><td>&quot;H&quot;</td><td>&quot;SI1&quot;</td><td>&quot;EX&quot;</td><td>&quot;EX&quot;</td><td>&quot;GIA&quot;</td><td>3183</td></tr><tr><td>0.91</td><td>&quot;Ideal&quot;</td><td>&quot;E&quot;</td><td>&quot;SI1&quot;</td><td>&quot;VG&quot;</td><td>&quot;VG&quot;</td><td>&quot;GIA&quot;</td><td>4370</td></tr><tr><td>0.83</td><td>&quot;Ideal&quot;</td><td>&quot;G&quot;</td><td>&quot;SI1&quot;</td><td>&quot;EX&quot;</td><td>&quot;EX&quot;</td><td>&quot;GIA&quot;</td><td>3171</td></tr></tbody></table></div>"
      ],
      "text/plain": [
       "shape: (5, 8)\n",
       "┌──────────────┬───────┬───────┬─────────┬────────┬──────────┬────────┬───────┐\n",
       "│ Carat Weight ┆ Cut   ┆ Color ┆ Clarity ┆ Polish ┆ Symmetry ┆ Report ┆ Price │\n",
       "│ ---          ┆ ---   ┆ ---   ┆ ---     ┆ ---    ┆ ---      ┆ ---    ┆ ---   │\n",
       "│ f64          ┆ str   ┆ str   ┆ str     ┆ str    ┆ str      ┆ str    ┆ i64   │\n",
       "╞══════════════╪═══════╪═══════╪═════════╪════════╪══════════╪════════╪═══════╡\n",
       "│ 1.1          ┆ Ideal ┆ H     ┆ SI1     ┆ VG     ┆ EX       ┆ GIA    ┆ 5169  │\n",
       "│ 0.83         ┆ Ideal ┆ H     ┆ VS1     ┆ ID     ┆ ID       ┆ AGSL   ┆ 3470  │\n",
       "│ 0.85         ┆ Ideal ┆ H     ┆ SI1     ┆ EX     ┆ EX       ┆ GIA    ┆ 3183  │\n",
       "│ 0.91         ┆ Ideal ┆ E     ┆ SI1     ┆ VG     ┆ VG       ┆ GIA    ┆ 4370  │\n",
       "│ 0.83         ┆ Ideal ┆ G     ┆ SI1     ┆ EX     ┆ EX       ┆ GIA    ┆ 3171  │\n",
       "└──────────────┴───────┴───────┴─────────┴────────┴──────────┴────────┴───────┘"
      ]
     },
     "execution_count": 35,
     "metadata": {},
     "output_type": "execute_result"
    }
   ],
   "source": [
    "# read csv file\n",
    "import polars as pl\n",
    "data = pl.read_csv('https://raw.githubusercontent.com/pycaret/pycaret/master/datasets/diamond.csv')\n",
    "\n",
    "# check the head\n",
    "data.head()"
   ]
  },
  {
   "cell_type": "code",
   "execution_count": 36,
   "id": "b6336328",
   "metadata": {},
   "outputs": [
    {
     "data": {
      "text/plain": [
       "(6000, 8)"
      ]
     },
     "execution_count": 36,
     "metadata": {},
     "output_type": "execute_result"
    }
   ],
   "source": [
    "data.shape"
   ]
  },
  {
   "cell_type": "code",
   "execution_count": 37,
   "id": "060e9c15",
   "metadata": {},
   "outputs": [
    {
     "data": {
      "text/plain": [
       "polars.dataframe.frame.DataFrame"
      ]
     },
     "execution_count": 37,
     "metadata": {},
     "output_type": "execute_result"
    }
   ],
   "source": [
    "type(data)"
   ]
  },
  {
   "cell_type": "markdown",
   "id": "98cdffef",
   "metadata": {},
   "source": [
    "### Selecting & filtering data"
   ]
  },
  {
   "cell_type": "code",
   "execution_count": 38,
   "id": "dc73b05b",
   "metadata": {},
   "outputs": [
    {
     "data": {
      "text/html": [
       "<div><style>\n",
       ".dataframe > thead > tr,\n",
       ".dataframe > tbody > tr {\n",
       "  text-align: right;\n",
       "  white-space: pre-wrap;\n",
       "}\n",
       "</style>\n",
       "<small>shape: (5, 3)</small><table border=\"1\" class=\"dataframe\"><thead><tr><th>Carat Weight</th><th>Cut</th><th>Price</th></tr><tr><td>f64</td><td>str</td><td>i64</td></tr></thead><tbody><tr><td>1.1</td><td>&quot;Ideal&quot;</td><td>5169</td></tr><tr><td>0.83</td><td>&quot;Ideal&quot;</td><td>3470</td></tr><tr><td>0.85</td><td>&quot;Ideal&quot;</td><td>3183</td></tr><tr><td>0.91</td><td>&quot;Ideal&quot;</td><td>4370</td></tr><tr><td>0.83</td><td>&quot;Ideal&quot;</td><td>3171</td></tr></tbody></table></div>"
      ],
      "text/plain": [
       "shape: (5, 3)\n",
       "┌──────────────┬───────┬───────┐\n",
       "│ Carat Weight ┆ Cut   ┆ Price │\n",
       "│ ---          ┆ ---   ┆ ---   │\n",
       "│ f64          ┆ str   ┆ i64   │\n",
       "╞══════════════╪═══════╪═══════╡\n",
       "│ 1.1          ┆ Ideal ┆ 5169  │\n",
       "│ 0.83         ┆ Ideal ┆ 3470  │\n",
       "│ 0.85         ┆ Ideal ┆ 3183  │\n",
       "│ 0.91         ┆ Ideal ┆ 4370  │\n",
       "│ 0.83         ┆ Ideal ┆ 3171  │\n",
       "└──────────────┴───────┴───────┘"
      ]
     },
     "execution_count": 38,
     "metadata": {},
     "output_type": "execute_result"
    }
   ],
   "source": [
    "# Select specific columns: carat, cut, and price\n",
    "selected_df = data.select(['Carat Weight', 'Cut', 'Price'])\n",
    "\n",
    "# show selected_df head\n",
    "selected_df.head()"
   ]
  },
  {
   "cell_type": "markdown",
   "id": "e4f12953",
   "metadata": {},
   "source": [
    "Filtering rows based on certain conditions can be done using the filter() method. For instance, to filter rows where the carat is greater than 2.0, you can do the following:"
   ]
  },
  {
   "cell_type": "code",
   "execution_count": 39,
   "id": "6edad95e",
   "metadata": {},
   "outputs": [
    {
     "data": {
      "text/html": [
       "<div><style>\n",
       ".dataframe > thead > tr,\n",
       ".dataframe > tbody > tr {\n",
       "  text-align: right;\n",
       "  white-space: pre-wrap;\n",
       "}\n",
       "</style>\n",
       "<small>shape: (5, 8)</small><table border=\"1\" class=\"dataframe\"><thead><tr><th>Carat Weight</th><th>Cut</th><th>Color</th><th>Clarity</th><th>Polish</th><th>Symmetry</th><th>Report</th><th>Price</th></tr><tr><td>f64</td><td>str</td><td>str</td><td>str</td><td>str</td><td>str</td><td>str</td><td>i64</td></tr></thead><tbody><tr><td>2.11</td><td>&quot;Ideal&quot;</td><td>&quot;H&quot;</td><td>&quot;SI1&quot;</td><td>&quot;VG&quot;</td><td>&quot;VG&quot;</td><td>&quot;GIA&quot;</td><td>18609</td></tr><tr><td>2.51</td><td>&quot;Very Good&quot;</td><td>&quot;G&quot;</td><td>&quot;VS2&quot;</td><td>&quot;VG&quot;</td><td>&quot;VG&quot;</td><td>&quot;GIA&quot;</td><td>34361</td></tr><tr><td>2.2</td><td>&quot;Ideal&quot;</td><td>&quot;H&quot;</td><td>&quot;VS2&quot;</td><td>&quot;EX&quot;</td><td>&quot;VG&quot;</td><td>&quot;GIA&quot;</td><td>22241</td></tr><tr><td>2.6</td><td>&quot;Ideal&quot;</td><td>&quot;G&quot;</td><td>&quot;VS2&quot;</td><td>&quot;EX&quot;</td><td>&quot;EX&quot;</td><td>&quot;GIA&quot;</td><td>37621</td></tr><tr><td>2.02</td><td>&quot;Good&quot;</td><td>&quot;I&quot;</td><td>&quot;VVS2&quot;</td><td>&quot;EX&quot;</td><td>&quot;VG&quot;</td><td>&quot;GIA&quot;</td><td>19756</td></tr></tbody></table></div>"
      ],
      "text/plain": [
       "shape: (5, 8)\n",
       "┌──────────────┬───────────┬───────┬─────────┬────────┬──────────┬────────┬───────┐\n",
       "│ Carat Weight ┆ Cut       ┆ Color ┆ Clarity ┆ Polish ┆ Symmetry ┆ Report ┆ Price │\n",
       "│ ---          ┆ ---       ┆ ---   ┆ ---     ┆ ---    ┆ ---      ┆ ---    ┆ ---   │\n",
       "│ f64          ┆ str       ┆ str   ┆ str     ┆ str    ┆ str      ┆ str    ┆ i64   │\n",
       "╞══════════════╪═══════════╪═══════╪═════════╪════════╪══════════╪════════╪═══════╡\n",
       "│ 2.11         ┆ Ideal     ┆ H     ┆ SI1     ┆ VG     ┆ VG       ┆ GIA    ┆ 18609 │\n",
       "│ 2.51         ┆ Very Good ┆ G     ┆ VS2     ┆ VG     ┆ VG       ┆ GIA    ┆ 34361 │\n",
       "│ 2.2          ┆ Ideal     ┆ H     ┆ VS2     ┆ EX     ┆ VG       ┆ GIA    ┆ 22241 │\n",
       "│ 2.6          ┆ Ideal     ┆ G     ┆ VS2     ┆ EX     ┆ EX       ┆ GIA    ┆ 37621 │\n",
       "│ 2.02         ┆ Good      ┆ I     ┆ VVS2    ┆ EX     ┆ VG       ┆ GIA    ┆ 19756 │\n",
       "└──────────────┴───────────┴───────┴─────────┴────────┴──────────┴────────┴───────┘"
      ]
     },
     "execution_count": 39,
     "metadata": {},
     "output_type": "execute_result"
    }
   ],
   "source": [
    "# filter the df with condition\n",
    "filtered_df = data.filter(pl.col('Carat Weight') > 2.0)\n",
    "\n",
    "# show filtered_df head\n",
    "filtered_df.head()"
   ]
  },
  {
   "cell_type": "markdown",
   "id": "a111b6d6",
   "metadata": {},
   "source": [
    "### Sorting & ordering data"
   ]
  },
  {
   "cell_type": "markdown",
   "id": "530f38c3",
   "metadata": {},
   "source": [
    "Polars provides the sort() method to sort a DataFrame based on one or more columns. Here's an example:"
   ]
  },
  {
   "cell_type": "code",
   "execution_count": 40,
   "id": "53f07b0b",
   "metadata": {},
   "outputs": [
    {
     "data": {
      "text/html": [
       "<div><style>\n",
       ".dataframe > thead > tr,\n",
       ".dataframe > tbody > tr {\n",
       "  text-align: right;\n",
       "  white-space: pre-wrap;\n",
       "}\n",
       "</style>\n",
       "<small>shape: (5, 8)</small><table border=\"1\" class=\"dataframe\"><thead><tr><th>Carat Weight</th><th>Cut</th><th>Color</th><th>Clarity</th><th>Polish</th><th>Symmetry</th><th>Report</th><th>Price</th></tr><tr><td>f64</td><td>str</td><td>str</td><td>str</td><td>str</td><td>str</td><td>str</td><td>i64</td></tr></thead><tbody><tr><td>0.77</td><td>&quot;Good&quot;</td><td>&quot;I&quot;</td><td>&quot;VS1&quot;</td><td>&quot;VG&quot;</td><td>&quot;G&quot;</td><td>&quot;AGSL&quot;</td><td>2184</td></tr><tr><td>0.77</td><td>&quot;Good&quot;</td><td>&quot;I&quot;</td><td>&quot;SI1&quot;</td><td>&quot;EX&quot;</td><td>&quot;VG&quot;</td><td>&quot;GIA&quot;</td><td>2241</td></tr><tr><td>0.78</td><td>&quot;Very Good&quot;</td><td>&quot;I&quot;</td><td>&quot;SI1&quot;</td><td>&quot;EX&quot;</td><td>&quot;VG&quot;</td><td>&quot;GIA&quot;</td><td>2348</td></tr><tr><td>0.75</td><td>&quot;Ideal&quot;</td><td>&quot;I&quot;</td><td>&quot;SI1&quot;</td><td>&quot;VG&quot;</td><td>&quot;VG&quot;</td><td>&quot;GIA&quot;</td><td>2383</td></tr><tr><td>0.76</td><td>&quot;Very Good&quot;</td><td>&quot;H&quot;</td><td>&quot;SI1&quot;</td><td>&quot;G&quot;</td><td>&quot;G&quot;</td><td>&quot;GIA&quot;</td><td>2396</td></tr></tbody></table></div>"
      ],
      "text/plain": [
       "shape: (5, 8)\n",
       "┌──────────────┬───────────┬───────┬─────────┬────────┬──────────┬────────┬───────┐\n",
       "│ Carat Weight ┆ Cut       ┆ Color ┆ Clarity ┆ Polish ┆ Symmetry ┆ Report ┆ Price │\n",
       "│ ---          ┆ ---       ┆ ---   ┆ ---     ┆ ---    ┆ ---      ┆ ---    ┆ ---   │\n",
       "│ f64          ┆ str       ┆ str   ┆ str     ┆ str    ┆ str      ┆ str    ┆ i64   │\n",
       "╞══════════════╪═══════════╪═══════╪═════════╪════════╪══════════╪════════╪═══════╡\n",
       "│ 0.77         ┆ Good      ┆ I     ┆ VS1     ┆ VG     ┆ G        ┆ AGSL   ┆ 2184  │\n",
       "│ 0.77         ┆ Good      ┆ I     ┆ SI1     ┆ EX     ┆ VG       ┆ GIA    ┆ 2241  │\n",
       "│ 0.78         ┆ Very Good ┆ I     ┆ SI1     ┆ EX     ┆ VG       ┆ GIA    ┆ 2348  │\n",
       "│ 0.75         ┆ Ideal     ┆ I     ┆ SI1     ┆ VG     ┆ VG       ┆ GIA    ┆ 2383  │\n",
       "│ 0.76         ┆ Very Good ┆ H     ┆ SI1     ┆ G      ┆ G        ┆ GIA    ┆ 2396  │\n",
       "└──────────────┴───────────┴───────┴─────────┴────────┴──────────┴────────┴───────┘"
      ]
     },
     "execution_count": 40,
     "metadata": {},
     "output_type": "execute_result"
    }
   ],
   "source": [
    "# sort the df by price\n",
    "sorted_df = data.sort(by='Price')\n",
    "\n",
    "# show sorted_df head\n",
    "sorted_df.head()"
   ]
  },
  {
   "cell_type": "markdown",
   "id": "e30fde49",
   "metadata": {},
   "source": [
    "### Handling missing values"
   ]
  },
  {
   "cell_type": "markdown",
   "id": "c81f6978",
   "metadata": {},
   "source": [
    "Polars provides convenient methods to handle missing values. The drop_nulls() method allows you to drop rows that contain any missing values:"
   ]
  },
  {
   "cell_type": "code",
   "execution_count": 41,
   "id": "5d525d13",
   "metadata": {},
   "outputs": [
    {
     "data": {
      "text/html": [
       "<div><style>\n",
       ".dataframe > thead > tr,\n",
       ".dataframe > tbody > tr {\n",
       "  text-align: right;\n",
       "  white-space: pre-wrap;\n",
       "}\n",
       "</style>\n",
       "<small>shape: (5, 8)</small><table border=\"1\" class=\"dataframe\"><thead><tr><th>Carat Weight</th><th>Cut</th><th>Color</th><th>Clarity</th><th>Polish</th><th>Symmetry</th><th>Report</th><th>Price</th></tr><tr><td>f64</td><td>str</td><td>str</td><td>str</td><td>str</td><td>str</td><td>str</td><td>i64</td></tr></thead><tbody><tr><td>1.1</td><td>&quot;Ideal&quot;</td><td>&quot;H&quot;</td><td>&quot;SI1&quot;</td><td>&quot;VG&quot;</td><td>&quot;EX&quot;</td><td>&quot;GIA&quot;</td><td>5169</td></tr><tr><td>0.83</td><td>&quot;Ideal&quot;</td><td>&quot;H&quot;</td><td>&quot;VS1&quot;</td><td>&quot;ID&quot;</td><td>&quot;ID&quot;</td><td>&quot;AGSL&quot;</td><td>3470</td></tr><tr><td>0.85</td><td>&quot;Ideal&quot;</td><td>&quot;H&quot;</td><td>&quot;SI1&quot;</td><td>&quot;EX&quot;</td><td>&quot;EX&quot;</td><td>&quot;GIA&quot;</td><td>3183</td></tr><tr><td>0.91</td><td>&quot;Ideal&quot;</td><td>&quot;E&quot;</td><td>&quot;SI1&quot;</td><td>&quot;VG&quot;</td><td>&quot;VG&quot;</td><td>&quot;GIA&quot;</td><td>4370</td></tr><tr><td>0.83</td><td>&quot;Ideal&quot;</td><td>&quot;G&quot;</td><td>&quot;SI1&quot;</td><td>&quot;EX&quot;</td><td>&quot;EX&quot;</td><td>&quot;GIA&quot;</td><td>3171</td></tr></tbody></table></div>"
      ],
      "text/plain": [
       "shape: (5, 8)\n",
       "┌──────────────┬───────┬───────┬─────────┬────────┬──────────┬────────┬───────┐\n",
       "│ Carat Weight ┆ Cut   ┆ Color ┆ Clarity ┆ Polish ┆ Symmetry ┆ Report ┆ Price │\n",
       "│ ---          ┆ ---   ┆ ---   ┆ ---     ┆ ---    ┆ ---      ┆ ---    ┆ ---   │\n",
       "│ f64          ┆ str   ┆ str   ┆ str     ┆ str    ┆ str      ┆ str    ┆ i64   │\n",
       "╞══════════════╪═══════╪═══════╪═════════╪════════╪══════════╪════════╪═══════╡\n",
       "│ 1.1          ┆ Ideal ┆ H     ┆ SI1     ┆ VG     ┆ EX       ┆ GIA    ┆ 5169  │\n",
       "│ 0.83         ┆ Ideal ┆ H     ┆ VS1     ┆ ID     ┆ ID       ┆ AGSL   ┆ 3470  │\n",
       "│ 0.85         ┆ Ideal ┆ H     ┆ SI1     ┆ EX     ┆ EX       ┆ GIA    ┆ 3183  │\n",
       "│ 0.91         ┆ Ideal ┆ E     ┆ SI1     ┆ VG     ┆ VG       ┆ GIA    ┆ 4370  │\n",
       "│ 0.83         ┆ Ideal ┆ G     ┆ SI1     ┆ EX     ┆ EX       ┆ GIA    ┆ 3171  │\n",
       "└──────────────┴───────┴───────┴─────────┴────────┴──────────┴────────┴───────┘"
      ]
     },
     "execution_count": 41,
     "metadata": {},
     "output_type": "execute_result"
    }
   ],
   "source": [
    "# drop missing values\n",
    "cleaned_df = data.drop_nulls()\n",
    "\n",
    "\n",
    "# show cleaned_df head\n",
    "cleaned_df.head()"
   ]
  },
  {
   "cell_type": "markdown",
   "id": "4b747e24",
   "metadata": {},
   "source": [
    "Alternatively, you can use the fill_nulls() method to replace missing values with a specified default value or fill method."
   ]
  },
  {
   "cell_type": "markdown",
   "id": "33b2c470",
   "metadata": {},
   "source": [
    "### Grouping data based on specific columns"
   ]
  },
  {
   "cell_type": "markdown",
   "id": "cf941264",
   "metadata": {},
   "source": [
    "To group data based on specific columns, you can use the groupby() method. Here's an example that groups the data by the Cut column and calculates the average Price for each group:"
   ]
  },
  {
   "cell_type": "code",
   "execution_count": 42,
   "id": "a9ef5286",
   "metadata": {},
   "outputs": [
    {
     "name": "stderr",
     "output_type": "stream",
     "text": [
      "/var/folders/sz/bnngcgwd3n50tz13wnb4rzbc0000gn/T/ipykernel_59071/3134945344.py:2: DeprecationWarning: `groupby` is deprecated. It has been renamed to `group_by`.\n",
      "  grouped_df = data.groupby(by='Cut').agg(pl.col('Price').mean())\n"
     ]
    },
    {
     "data": {
      "text/html": [
       "<div><style>\n",
       ".dataframe > thead > tr,\n",
       ".dataframe > tbody > tr {\n",
       "  text-align: right;\n",
       "  white-space: pre-wrap;\n",
       "}\n",
       "</style>\n",
       "<small>shape: (5, 2)</small><table border=\"1\" class=\"dataframe\"><thead><tr><th>Cut</th><th>Price</th></tr><tr><td>str</td><td>f64</td></tr></thead><tbody><tr><td>&quot;Good&quot;</td><td>9326.65678</td></tr><tr><td>&quot;Fair&quot;</td><td>5886.178295</td></tr><tr><td>&quot;Very Good&quot;</td><td>11484.69687</td></tr><tr><td>&quot;Signature-Idea…</td><td>11541.525692</td></tr><tr><td>&quot;Ideal&quot;</td><td>13127.331185</td></tr></tbody></table></div>"
      ],
      "text/plain": [
       "shape: (5, 2)\n",
       "┌─────────────────┬──────────────┐\n",
       "│ Cut             ┆ Price        │\n",
       "│ ---             ┆ ---          │\n",
       "│ str             ┆ f64          │\n",
       "╞═════════════════╪══════════════╡\n",
       "│ Good            ┆ 9326.65678   │\n",
       "│ Fair            ┆ 5886.178295  │\n",
       "│ Very Good       ┆ 11484.69687  │\n",
       "│ Signature-Ideal ┆ 11541.525692 │\n",
       "│ Ideal           ┆ 13127.331185 │\n",
       "└─────────────────┴──────────────┘"
      ]
     },
     "execution_count": 42,
     "metadata": {},
     "output_type": "execute_result"
    }
   ],
   "source": [
    "\n",
    "# group by cut and calc mean of price\n",
    "grouped_df = data.groupby(by='Cut').agg(pl.col('Price').mean())\n",
    "\n",
    "\n",
    "# show grouped_df head\n",
    "grouped_df.head()"
   ]
  },
  {
   "cell_type": "markdown",
   "id": "b3b5a7f3",
   "metadata": {},
   "source": [
    "### Joining & combining dataframes "
   ]
  },
  {
   "cell_type": "markdown",
   "id": "84355490",
   "metadata": {},
   "source": [
    "Polars provides flexible options for joining and combining DataFrames, allowing you to merge and concatenate data from different sources. To perform a join operation, you can use the join() method. Here's an example that demonstrates an inner join between two DataFrames based on a common key column:\n",
    "\n",
    "\n",
    "\n",
    "\n",
    "\n",
    "\n",
    "\n"
   ]
  },
  {
   "cell_type": "code",
   "execution_count": 43,
   "id": "9c9bcefb",
   "metadata": {},
   "outputs": [
    {
     "data": {
      "text/html": [
       "<div><style>\n",
       ".dataframe > thead > tr,\n",
       ".dataframe > tbody > tr {\n",
       "  text-align: right;\n",
       "  white-space: pre-wrap;\n",
       "}\n",
       "</style>\n",
       "<small>shape: (2, 3)</small><table border=\"1\" class=\"dataframe\"><thead><tr><th>id</th><th>name</th><th>age</th></tr><tr><td>i64</td><td>str</td><td>i64</td></tr></thead><tbody><tr><td>2</td><td>&quot;Bob&quot;</td><td>25</td></tr><tr><td>3</td><td>&quot;Charlie&quot;</td><td>30</td></tr></tbody></table></div>"
      ],
      "text/plain": [
       "shape: (2, 3)\n",
       "┌─────┬─────────┬─────┐\n",
       "│ id  ┆ name    ┆ age │\n",
       "│ --- ┆ ---     ┆ --- │\n",
       "│ i64 ┆ str     ┆ i64 │\n",
       "╞═════╪═════════╪═════╡\n",
       "│ 2   ┆ Bob     ┆ 25  │\n",
       "│ 3   ┆ Charlie ┆ 30  │\n",
       "└─────┴─────────┴─────┘"
      ]
     },
     "execution_count": 43,
     "metadata": {},
     "output_type": "execute_result"
    }
   ],
   "source": [
    "# Create the first DataFrame\n",
    "df1 = pl.DataFrame({\n",
    "    'id': [1, 2, 3, 4],\n",
    "    'name': ['Alice', 'Bob', 'Charlie', 'David']\n",
    "})\n",
    "\n",
    "\n",
    "# Create the second DataFrame\n",
    "df2 = pl.DataFrame({\n",
    "    'id': [2, 3, 5],\n",
    "    'age': [25, 30, 35]\n",
    "})\n",
    "\n",
    "\n",
    "# Perform an inner join on the 'id' column\n",
    "joined_df = df1.join(df2, on='id')\n",
    "\n",
    "\n",
    "# Display the joined DataFrame\n",
    "joined_df"
   ]
  },
  {
   "cell_type": "markdown",
   "id": "ca9c9d8b",
   "metadata": {},
   "source": [
    "### Synthetic data polars vs pandas comparison"
   ]
  },
  {
   "cell_type": "code",
   "execution_count": 44,
   "id": "ff463fa9",
   "metadata": {},
   "outputs": [],
   "source": [
    "# Create a DataFrame with 10 million rows and 4 columns\n",
    "num_rows = 10**7\n",
    "\n",
    "# Create a list of random strings\n",
    "str_list = ['A', 'B', 'C', 'D', 'E']\n",
    "column4_data = np.random.choice(str_list, num_rows)\n",
    "\n",
    "df = pd.DataFrame({\n",
    "    'column1': np.random.randint(1, 1000, size=num_rows),\n",
    "    'column2': np.random.randint(1, 1000, size=num_rows),\n",
    "    'column3': np.random.randint(1, 1000, size=num_rows),\n",
    "    'column4': column4_data\n",
    "})"
   ]
  },
  {
   "cell_type": "code",
   "execution_count": 45,
   "id": "439559b9",
   "metadata": {},
   "outputs": [
    {
     "data": {
      "text/html": [
       "<div>\n",
       "<style scoped>\n",
       "    .dataframe tbody tr th:only-of-type {\n",
       "        vertical-align: middle;\n",
       "    }\n",
       "\n",
       "    .dataframe tbody tr th {\n",
       "        vertical-align: top;\n",
       "    }\n",
       "\n",
       "    .dataframe thead th {\n",
       "        text-align: right;\n",
       "    }\n",
       "</style>\n",
       "<table border=\"1\" class=\"dataframe\">\n",
       "  <thead>\n",
       "    <tr style=\"text-align: right;\">\n",
       "      <th></th>\n",
       "      <th>column1</th>\n",
       "      <th>column2</th>\n",
       "      <th>column3</th>\n",
       "      <th>column4</th>\n",
       "    </tr>\n",
       "  </thead>\n",
       "  <tbody>\n",
       "    <tr>\n",
       "      <th>0</th>\n",
       "      <td>780</td>\n",
       "      <td>834</td>\n",
       "      <td>446</td>\n",
       "      <td>A</td>\n",
       "    </tr>\n",
       "    <tr>\n",
       "      <th>1</th>\n",
       "      <td>72</td>\n",
       "      <td>937</td>\n",
       "      <td>340</td>\n",
       "      <td>D</td>\n",
       "    </tr>\n",
       "    <tr>\n",
       "      <th>2</th>\n",
       "      <td>158</td>\n",
       "      <td>808</td>\n",
       "      <td>892</td>\n",
       "      <td>E</td>\n",
       "    </tr>\n",
       "    <tr>\n",
       "      <th>3</th>\n",
       "      <td>550</td>\n",
       "      <td>117</td>\n",
       "      <td>471</td>\n",
       "      <td>A</td>\n",
       "    </tr>\n",
       "    <tr>\n",
       "      <th>4</th>\n",
       "      <td>734</td>\n",
       "      <td>128</td>\n",
       "      <td>867</td>\n",
       "      <td>E</td>\n",
       "    </tr>\n",
       "  </tbody>\n",
       "</table>\n",
       "</div>"
      ],
      "text/plain": [
       "   column1  column2  column3 column4\n",
       "0      780      834      446       A\n",
       "1       72      937      340       D\n",
       "2      158      808      892       E\n",
       "3      550      117      471       A\n",
       "4      734      128      867       E"
      ]
     },
     "execution_count": 45,
     "metadata": {},
     "output_type": "execute_result"
    }
   ],
   "source": [
    "df.head()"
   ]
  },
  {
   "cell_type": "code",
   "execution_count": 46,
   "id": "78f8252c",
   "metadata": {},
   "outputs": [
    {
     "data": {
      "text/plain": [
       "(10000000, 4)"
      ]
     },
     "execution_count": 46,
     "metadata": {},
     "output_type": "execute_result"
    }
   ],
   "source": [
    "df.shape"
   ]
  },
  {
   "cell_type": "code",
   "execution_count": 8,
   "id": "d311c68e",
   "metadata": {},
   "outputs": [],
   "source": [
    "# Save the DataFrame to a CSV file\n",
    "df.to_csv('large_data.csv', index=False)"
   ]
  },
  {
   "cell_type": "markdown",
   "id": "35226a08",
   "metadata": {},
   "source": [
    "### Reading the dataset"
   ]
  },
  {
   "cell_type": "code",
   "execution_count": 47,
   "id": "d45b1ff7",
   "metadata": {},
   "outputs": [
    {
     "name": "stdout",
     "output_type": "stream",
     "text": [
      "Time taken by Pandas:  1.6105148792266846\n"
     ]
    }
   ],
   "source": [
    "import time\n",
    "\n",
    "start_time = time.time()\n",
    "\n",
    "df = pd.read_csv('large_data.csv')\n",
    "df = df[df['column1'] > 100]\n",
    "df_grouped = df.groupby('column4')\n",
    "result = df_grouped.size()\n",
    "\n",
    "pandas_time = time.time() - start_time\n",
    "print(\"Time taken by Pandas: \", pandas_time)"
   ]
  },
  {
   "cell_type": "code",
   "execution_count": 48,
   "id": "0266b3a7",
   "metadata": {},
   "outputs": [
    {
     "name": "stdout",
     "output_type": "stream",
     "text": [
      "Time taken by Polars:  0.5639503002166748\n"
     ]
    },
    {
     "name": "stderr",
     "output_type": "stream",
     "text": [
      "/var/folders/sz/bnngcgwd3n50tz13wnb4rzbc0000gn/T/ipykernel_59071/998771109.py:5: DeprecationWarning: `groupby` is deprecated. It has been renamed to `group_by`.\n",
      "  df_grouped = df.groupby('column4')\n",
      "/var/folders/sz/bnngcgwd3n50tz13wnb4rzbc0000gn/T/ipykernel_59071/998771109.py:6: DeprecationWarning: `count` is deprecated. It has been renamed to `len`.\n",
      "  result = df_grouped.count()\n"
     ]
    }
   ],
   "source": [
    "start_time = time.time()\n",
    "\n",
    "df = pl.read_csv('large_data.csv')\n",
    "df = df.filter(pl.col('column1') > 100)\n",
    "df_grouped = df.groupby('column4')\n",
    "result = df_grouped.count()\n",
    "\n",
    "polars_time = time.time() - start_time\n",
    "print(\"Time taken by Polars: \", polars_time)"
   ]
  },
  {
   "cell_type": "code",
   "execution_count": 49,
   "id": "424f5015",
   "metadata": {},
   "outputs": [
    {
     "name": "stdout",
     "output_type": "stream",
     "text": [
      "Time taken by Pandas:  1.6105148792266846\n",
      "Time taken by Polars:  0.5639503002166748\n",
      "Difference in time taken to execute in percentage: 64.98322943234993%\n"
     ]
    }
   ],
   "source": [
    "# Calculate the percentage difference\n",
    "difference = ((pandas_time - polars_time) / pandas_time) * 100\n",
    "\n",
    "print(f\"Time taken by Pandas: \", pandas_time)\n",
    "print(f\"Time taken by Polars: \", polars_time)\n",
    "print(f\"Difference in time taken to execute in percentage: {difference}%\")"
   ]
  },
  {
   "cell_type": "markdown",
   "id": "4dc6ffeb",
   "metadata": {},
   "source": [
    "### Filtering rows based on condition"
   ]
  },
  {
   "cell_type": "code",
   "execution_count": 50,
   "id": "7f430e1d",
   "metadata": {},
   "outputs": [
    {
     "name": "stdout",
     "output_type": "stream",
     "text": [
      "132 ms ± 3.7 ms per loop (mean ± std. dev. of 7 runs, 1 loop each)\n"
     ]
    }
   ],
   "source": [
    "%%timeit \n",
    "\n",
    "df = pl.scan_csv('large_data.csv')\n",
    "result_df = df.filter(pl.col('column4')=='D').collect()\n",
    "#Ddf = df.filter(pl.col('column1') > 100)\n",
    "\n",
    "#.collect()\n",
    "\n",
    "#result_df"
   ]
  },
  {
   "cell_type": "code",
   "execution_count": 51,
   "id": "329788d6",
   "metadata": {},
   "outputs": [
    {
     "name": "stdout",
     "output_type": "stream",
     "text": [
      "1.29 s ± 33.2 ms per loop (mean ± std. dev. of 7 runs, 1 loop each)\n"
     ]
    }
   ],
   "source": [
    "%%timeit \n",
    "\n",
    "df = pd.read_csv('large_data.csv')\n",
    "result_df = df[df['column4']=='D']"
   ]
  },
  {
   "cell_type": "code",
   "execution_count": 52,
   "id": "ec54b574",
   "metadata": {},
   "outputs": [],
   "source": [
    "def create_table(n):\n",
    "    np.random.seed(42)\n",
    "    # Create dataframe with sales information\n",
    "    df = pd.DataFrame({'id' : [''.join(random.choice(ascii_letters) for x in range(10)) for _ in range(n)],\n",
    "                       'date' :pd.date_range(start='1990-01-01', periods=n, freq='T'),\n",
    "                       'office' : np.random.choice(['United States',\n",
    "                                                    'Brasil','Spain',\n",
    "                                                    'France','China',\n",
    "                                                    'United Kingdom',\n",
    "                                                    'Italy','Canada',\n",
    "                                                    'India','Argentina'],size=n).astype(str),\n",
    "                       'sales' : np.random.randint(0,10000, size= n).astype(np.int32),\n",
    "                      'revenue' : np.random.randint(0,10000, size= n).astype(np.int32)})\n",
    "    \n",
    "    # Add some random nan values\n",
    "   \n",
    "    cols_list = df.select_dtypes('number').columns.tolist()\n",
    "        \n",
    "    for col in df[cols_list]:\n",
    "        df.loc[df.sample(frac=0.05).index, col] = np.nan\n",
    "                    \n",
    "    return df"
   ]
  },
  {
   "cell_type": "code",
   "execution_count": 62,
   "id": "8b8c0b62",
   "metadata": {},
   "outputs": [],
   "source": [
    "def create_table_2(n):\n",
    "    # Fictional databse with transactions in Italy office during 2022\n",
    "\n",
    "    np.random.seed(42)\n",
    "    df = pd.DataFrame({'id' : italy_2022_id,\n",
    "                       'year':2022,\n",
    "                       'name' : [''.join(random.choice(ascii_letters) for x in range(5)) for _ in range(n)],\n",
    "                       'surname' : [''.join(random.choice(ascii_letters) for x in range(5)) for _ in range(n)],\n",
    "                       'responsibility' : np.random.choice(['Sales Director', \n",
    "                                                            'Sales Manager',\n",
    "                                                            'Sales Intern','Sales Executive',\n",
    "                                                            'Sales Intern'],size=n).astype(str), \n",
    "                       'sex' :  np.random.choice(['male','female','non-binary'], size =n).astype(str)})\n",
    "                       \n",
    "    return df"
   ]
  },
  {
   "cell_type": "code",
   "execution_count": 54,
   "id": "3b2fa026",
   "metadata": {},
   "outputs": [],
   "source": [
    "df = create_table(22616640)"
   ]
  },
  {
   "cell_type": "code",
   "execution_count": 55,
   "id": "5cf01b19",
   "metadata": {},
   "outputs": [
    {
     "data": {
      "text/html": [
       "<div>\n",
       "<style scoped>\n",
       "    .dataframe tbody tr th:only-of-type {\n",
       "        vertical-align: middle;\n",
       "    }\n",
       "\n",
       "    .dataframe tbody tr th {\n",
       "        vertical-align: top;\n",
       "    }\n",
       "\n",
       "    .dataframe thead th {\n",
       "        text-align: right;\n",
       "    }\n",
       "</style>\n",
       "<table border=\"1\" class=\"dataframe\">\n",
       "  <thead>\n",
       "    <tr style=\"text-align: right;\">\n",
       "      <th></th>\n",
       "      <th>id</th>\n",
       "      <th>date</th>\n",
       "      <th>office</th>\n",
       "      <th>sales</th>\n",
       "      <th>revenue</th>\n",
       "    </tr>\n",
       "  </thead>\n",
       "  <tbody>\n",
       "    <tr>\n",
       "      <th>0</th>\n",
       "      <td>RAhrngfGbw</td>\n",
       "      <td>1990-01-01 00:00:00</td>\n",
       "      <td>Italy</td>\n",
       "      <td>1260.0</td>\n",
       "      <td>4027.0</td>\n",
       "    </tr>\n",
       "    <tr>\n",
       "      <th>1</th>\n",
       "      <td>TBUgrZBark</td>\n",
       "      <td>1990-01-01 00:01:00</td>\n",
       "      <td>France</td>\n",
       "      <td>3330.0</td>\n",
       "      <td>8467.0</td>\n",
       "    </tr>\n",
       "    <tr>\n",
       "      <th>2</th>\n",
       "      <td>yAqaqmpRjt</td>\n",
       "      <td>1990-01-01 00:02:00</td>\n",
       "      <td>Canada</td>\n",
       "      <td>595.0</td>\n",
       "      <td>1195.0</td>\n",
       "    </tr>\n",
       "    <tr>\n",
       "      <th>3</th>\n",
       "      <td>dXsChgdGFE</td>\n",
       "      <td>1990-01-01 00:03:00</td>\n",
       "      <td>China</td>\n",
       "      <td>2042.0</td>\n",
       "      <td>2810.0</td>\n",
       "    </tr>\n",
       "    <tr>\n",
       "      <th>4</th>\n",
       "      <td>AUGolJCINQ</td>\n",
       "      <td>1990-01-01 00:04:00</td>\n",
       "      <td>Italy</td>\n",
       "      <td>NaN</td>\n",
       "      <td>9245.0</td>\n",
       "    </tr>\n",
       "  </tbody>\n",
       "</table>\n",
       "</div>"
      ],
      "text/plain": [
       "           id                date  office   sales  revenue\n",
       "0  RAhrngfGbw 1990-01-01 00:00:00   Italy  1260.0   4027.0\n",
       "1  TBUgrZBark 1990-01-01 00:01:00  France  3330.0   8467.0\n",
       "2  yAqaqmpRjt 1990-01-01 00:02:00  Canada   595.0   1195.0\n",
       "3  dXsChgdGFE 1990-01-01 00:03:00   China  2042.0   2810.0\n",
       "4  AUGolJCINQ 1990-01-01 00:04:00   Italy     NaN   9245.0"
      ]
     },
     "execution_count": 55,
     "metadata": {},
     "output_type": "execute_result"
    }
   ],
   "source": [
    "df.head()"
   ]
  },
  {
   "cell_type": "code",
   "execution_count": 56,
   "id": "b5ceec1f",
   "metadata": {},
   "outputs": [
    {
     "data": {
      "text/plain": [
       "(22616640, 5)"
      ]
     },
     "execution_count": 56,
     "metadata": {},
     "output_type": "execute_result"
    }
   ],
   "source": [
    "df.shape"
   ]
  },
  {
   "cell_type": "code",
   "execution_count": 27,
   "id": "cb5925f7",
   "metadata": {},
   "outputs": [],
   "source": [
    "df.to_csv('country_sales.csv')"
   ]
  },
  {
   "cell_type": "code",
   "execution_count": 64,
   "id": "fd31267b",
   "metadata": {},
   "outputs": [],
   "source": [
    "#italy_2022_id = df.query('office == \"Italy\" and date.dt.year == 2022')['id'].values\n",
    "#italy_2022 = create_table_2(50000)\n",
    "#italy_2022_pl = pl.DataFrame(italy_2022)"
   ]
  },
  {
   "cell_type": "code",
   "execution_count": 65,
   "id": "c1680825",
   "metadata": {},
   "outputs": [],
   "source": [
    "def reading_comparison(pd_time, pd_pyarrow_time, pl_time, title):\n",
    "    fig, ax = plt.subplots(nrows=1, ncols=1, figsize=(6, 4))\n",
    "    times = [pd_time, pd_pyarrow_time, pl_time]\n",
    "    times = np.round(times, 2)\n",
    "\n",
    "    sns.barplot(x = ['pandas (numpy)','pandas (pyarrow)','polars'], \n",
    "                y = times, \n",
    "                edgecolor='black')\n",
    "\n",
    "\n",
    "    ax.set_title(f\"{title} Test\")\n",
    "    ax.set_ylabel(\"Running time (seconds)\")\n",
    "    ax.bar_label(ax.containers[0])\n",
    "    plt.savefig(f'./pandas_vs_polars_{title}.png', transparent=False,  facecolor='white', bbox_inches=\"tight\")\n",
    "    plt.show()"
   ]
  },
  {
   "cell_type": "code",
   "execution_count": 66,
   "id": "ad8a6aac",
   "metadata": {},
   "outputs": [],
   "source": [
    "def plot_comparison(pd_time, pl_time, title):\n",
    "    fig, ax = plt.subplots(nrows=1, ncols=1, figsize=(6, 4))\n",
    "    times = [pd_time, pl_time]\n",
    "    times = np.round(times, 2)\n",
    "\n",
    "    sns.barplot(x = ['pandas','polars'], \n",
    "                y = times, \n",
    "                edgecolor='black')\n",
    "\n",
    "\n",
    "    ax.set_title(f\"{title} Test\")\n",
    "    ax.set_ylabel(\"Running time (seconds)\")\n",
    "    ax.bar_label(ax.containers[0])\n",
    "    plt.savefig(f'./pandas_vs_polars_{title}.png', transparent=False,  facecolor='white', bbox_inches=\"tight\")\n",
    "    plt.show()"
   ]
  },
  {
   "cell_type": "markdown",
   "id": "f9732e54",
   "metadata": {},
   "source": [
    "### Reading csv dataset test"
   ]
  },
  {
   "cell_type": "code",
   "execution_count": 67,
   "id": "0d415035",
   "metadata": {},
   "outputs": [
    {
     "name": "stdout",
     "output_type": "stream",
     "text": [
      "pandas Loading Time = 19.216981887817383\n"
     ]
    }
   ],
   "source": [
    "s = time.time()\n",
    "df_pd = pd.read_csv(\"country_sales.csv\")\n",
    "df_pd = df_pd[['id', 'date', 'office', 'sales']]\n",
    "df_pd.query('office ==\"France\"')\n",
    "e = time.time()\n",
    "pd_time= e-s\n",
    "print(\"pandas Loading Time = {}\".format(pd_time))"
   ]
  },
  {
   "cell_type": "code",
   "execution_count": 68,
   "id": "8695ee73",
   "metadata": {},
   "outputs": [
    {
     "name": "stdout",
     "output_type": "stream",
     "text": [
      "pandas pyarrow Loading Time = 25.80471897125244\n"
     ]
    }
   ],
   "source": [
    "s = time.time()\n",
    "df_pd_arrow = pd.read_csv(\"country_sales.csv\", engine=\"pyarrow\")\n",
    "df_pd_arrow= df_pd_arrow[['id', 'date', 'office', 'sales']]\n",
    "df_pd_arrow.query('office == \"France\"')\n",
    "e = time.time()\n",
    "pd_pyarrow_time= e-s\n",
    "\n",
    "print(\"pandas pyarrow Loading Time = {}\".format(pd_pyarrow_time))"
   ]
  },
  {
   "cell_type": "code",
   "execution_count": 69,
   "id": "1dbe4cb4",
   "metadata": {},
   "outputs": [
    {
     "name": "stdout",
     "output_type": "stream",
     "text": [
      "polars Loading Time = 2.320039987564087\n"
     ]
    }
   ],
   "source": [
    "s = time.time()\n",
    "df_pl = pl.read_csv('country_sales.csv').filter(\n",
    "     (pl.col('office') == 'France'))\n",
    "df_pl.select(pl.col(['id', 'date', 'office', 'sales'])) \n",
    "e = time.time() \n",
    "pl_time= e-s\n",
    "print(\"polars Loading Time = {}\".format(pl_time))"
   ]
  },
  {
   "cell_type": "code",
   "execution_count": 70,
   "id": "94c823ef",
   "metadata": {},
   "outputs": [
    {
     "data": {
      "image/png": "[encoded data removed]",
      "text/plain": [
       "<Figure size 600x400 with 1 Axes>"
      ]
     },
     "metadata": {},
     "output_type": "display_data"
    }
   ],
   "source": [
    "reading_comparison(pd_time, pd_pyarrow_time, pl_time, 'read')"
   ]
  },
  {
   "cell_type": "code",
   "execution_count": 74,
   "id": "3d109f66",
   "metadata": {},
   "outputs": [
    {
     "data": {
      "text/html": [
       "<div>\n",
       "<style scoped>\n",
       "    .dataframe tbody tr th:only-of-type {\n",
       "        vertical-align: middle;\n",
       "    }\n",
       "\n",
       "    .dataframe tbody tr th {\n",
       "        vertical-align: top;\n",
       "    }\n",
       "\n",
       "    .dataframe thead th {\n",
       "        text-align: right;\n",
       "    }\n",
       "</style>\n",
       "<table border=\"1\" class=\"dataframe\">\n",
       "  <thead>\n",
       "    <tr style=\"text-align: right;\">\n",
       "      <th></th>\n",
       "      <th>id</th>\n",
       "      <th>date</th>\n",
       "      <th>office</th>\n",
       "      <th>sales</th>\n",
       "    </tr>\n",
       "  </thead>\n",
       "  <tbody>\n",
       "    <tr>\n",
       "      <th>0</th>\n",
       "      <td>WFqcZkhHFU</td>\n",
       "      <td>1990-01-01 00:00:00</td>\n",
       "      <td>Italy</td>\n",
       "      <td>1260.0</td>\n",
       "    </tr>\n",
       "    <tr>\n",
       "      <th>1</th>\n",
       "      <td>EFvyruFfRL</td>\n",
       "      <td>1990-01-01 00:01:00</td>\n",
       "      <td>France</td>\n",
       "      <td>3330.0</td>\n",
       "    </tr>\n",
       "    <tr>\n",
       "      <th>2</th>\n",
       "      <td>mfQDvQtLnY</td>\n",
       "      <td>1990-01-01 00:02:00</td>\n",
       "      <td>Canada</td>\n",
       "      <td>595.0</td>\n",
       "    </tr>\n",
       "    <tr>\n",
       "      <th>3</th>\n",
       "      <td>AfEUFNfYEG</td>\n",
       "      <td>1990-01-01 00:03:00</td>\n",
       "      <td>China</td>\n",
       "      <td>2042.0</td>\n",
       "    </tr>\n",
       "    <tr>\n",
       "      <th>4</th>\n",
       "      <td>DoUsqYOjdZ</td>\n",
       "      <td>1990-01-01 00:04:00</td>\n",
       "      <td>Italy</td>\n",
       "      <td>NaN</td>\n",
       "    </tr>\n",
       "  </tbody>\n",
       "</table>\n",
       "</div>"
      ],
      "text/plain": [
       "           id                 date  office   sales\n",
       "0  WFqcZkhHFU  1990-01-01 00:00:00   Italy  1260.0\n",
       "1  EFvyruFfRL  1990-01-01 00:01:00  France  3330.0\n",
       "2  mfQDvQtLnY  1990-01-01 00:02:00  Canada   595.0\n",
       "3  AfEUFNfYEG  1990-01-01 00:03:00   China  2042.0\n",
       "4  DoUsqYOjdZ  1990-01-01 00:04:00   Italy     NaN"
      ]
     },
     "execution_count": 74,
     "metadata": {},
     "output_type": "execute_result"
    }
   ],
   "source": [
    "df_pd.head()"
   ]
  },
  {
   "cell_type": "code",
   "execution_count": 75,
   "id": "49741d22",
   "metadata": {},
   "outputs": [
    {
     "data": {
      "text/html": [
       "<div>\n",
       "<style scoped>\n",
       "    .dataframe tbody tr th:only-of-type {\n",
       "        vertical-align: middle;\n",
       "    }\n",
       "\n",
       "    .dataframe tbody tr th {\n",
       "        vertical-align: top;\n",
       "    }\n",
       "\n",
       "    .dataframe thead th {\n",
       "        text-align: right;\n",
       "    }\n",
       "</style>\n",
       "<table border=\"1\" class=\"dataframe\">\n",
       "  <thead>\n",
       "    <tr style=\"text-align: right;\">\n",
       "      <th></th>\n",
       "      <th>id</th>\n",
       "      <th>date</th>\n",
       "      <th>office</th>\n",
       "      <th>sales</th>\n",
       "    </tr>\n",
       "  </thead>\n",
       "  <tbody>\n",
       "    <tr>\n",
       "      <th>0</th>\n",
       "      <td>WFqcZkhHFU</td>\n",
       "      <td>1990-01-01 00:00:00</td>\n",
       "      <td>Italy</td>\n",
       "      <td>1260.0</td>\n",
       "    </tr>\n",
       "    <tr>\n",
       "      <th>1</th>\n",
       "      <td>EFvyruFfRL</td>\n",
       "      <td>1990-01-01 00:01:00</td>\n",
       "      <td>France</td>\n",
       "      <td>3330.0</td>\n",
       "    </tr>\n",
       "    <tr>\n",
       "      <th>2</th>\n",
       "      <td>mfQDvQtLnY</td>\n",
       "      <td>1990-01-01 00:02:00</td>\n",
       "      <td>Canada</td>\n",
       "      <td>595.0</td>\n",
       "    </tr>\n",
       "    <tr>\n",
       "      <th>3</th>\n",
       "      <td>AfEUFNfYEG</td>\n",
       "      <td>1990-01-01 00:03:00</td>\n",
       "      <td>China</td>\n",
       "      <td>2042.0</td>\n",
       "    </tr>\n",
       "    <tr>\n",
       "      <th>4</th>\n",
       "      <td>DoUsqYOjdZ</td>\n",
       "      <td>1990-01-01 00:04:00</td>\n",
       "      <td>Italy</td>\n",
       "      <td>NaN</td>\n",
       "    </tr>\n",
       "  </tbody>\n",
       "</table>\n",
       "</div>"
      ],
      "text/plain": [
       "           id                date  office   sales\n",
       "0  WFqcZkhHFU 1990-01-01 00:00:00   Italy  1260.0\n",
       "1  EFvyruFfRL 1990-01-01 00:01:00  France  3330.0\n",
       "2  mfQDvQtLnY 1990-01-01 00:02:00  Canada   595.0\n",
       "3  AfEUFNfYEG 1990-01-01 00:03:00   China  2042.0\n",
       "4  DoUsqYOjdZ 1990-01-01 00:04:00   Italy     NaN"
      ]
     },
     "execution_count": 75,
     "metadata": {},
     "output_type": "execute_result"
    }
   ],
   "source": [
    "df_pd_arrow.head()"
   ]
  },
  {
   "cell_type": "code",
   "execution_count": 76,
   "id": "e546e52b",
   "metadata": {},
   "outputs": [
    {
     "data": {
      "text/html": [
       "<div><style>\n",
       ".dataframe > thead > tr,\n",
       ".dataframe > tbody > tr {\n",
       "  text-align: right;\n",
       "  white-space: pre-wrap;\n",
       "}\n",
       "</style>\n",
       "<small>shape: (5, 6)</small><table border=\"1\" class=\"dataframe\"><thead><tr><th></th><th>id</th><th>date</th><th>office</th><th>sales</th><th>revenue</th></tr><tr><td>i64</td><td>str</td><td>str</td><td>str</td><td>f64</td><td>f64</td></tr></thead><tbody><tr><td>1</td><td>&quot;EFvyruFfRL&quot;</td><td>&quot;1990-01-01 00:…</td><td>&quot;France&quot;</td><td>3330.0</td><td>8467.0</td></tr><tr><td>10</td><td>&quot;yGDQylTcdt&quot;</td><td>&quot;1990-01-01 00:…</td><td>&quot;France&quot;</td><td>9433.0</td><td>5379.0</td></tr><tr><td>29</td><td>&quot;ZmygvMHAgE&quot;</td><td>&quot;1990-01-01 00:…</td><td>&quot;France&quot;</td><td>4489.0</td><td>3457.0</td></tr><tr><td>39</td><td>&quot;XYwhkEaoLw&quot;</td><td>&quot;1990-01-01 00:…</td><td>&quot;France&quot;</td><td>8652.0</td><td>1767.0</td></tr><tr><td>47</td><td>&quot;TlkTQYaUZM&quot;</td><td>&quot;1990-01-01 00:…</td><td>&quot;France&quot;</td><td>5524.0</td><td>1242.0</td></tr></tbody></table></div>"
      ],
      "text/plain": [
       "shape: (5, 6)\n",
       "┌─────┬────────────┬─────────────────────┬────────┬────────┬─────────┐\n",
       "│     ┆ id         ┆ date                ┆ office ┆ sales  ┆ revenue │\n",
       "│ --- ┆ ---        ┆ ---                 ┆ ---    ┆ ---    ┆ ---     │\n",
       "│ i64 ┆ str        ┆ str                 ┆ str    ┆ f64    ┆ f64     │\n",
       "╞═════╪════════════╪═════════════════════╪════════╪════════╪═════════╡\n",
       "│ 1   ┆ EFvyruFfRL ┆ 1990-01-01 00:01:00 ┆ France ┆ 3330.0 ┆ 8467.0  │\n",
       "│ 10  ┆ yGDQylTcdt ┆ 1990-01-01 00:10:00 ┆ France ┆ 9433.0 ┆ 5379.0  │\n",
       "│ 29  ┆ ZmygvMHAgE ┆ 1990-01-01 00:29:00 ┆ France ┆ 4489.0 ┆ 3457.0  │\n",
       "│ 39  ┆ XYwhkEaoLw ┆ 1990-01-01 00:39:00 ┆ France ┆ 8652.0 ┆ 1767.0  │\n",
       "│ 47  ┆ TlkTQYaUZM ┆ 1990-01-01 00:47:00 ┆ France ┆ 5524.0 ┆ 1242.0  │\n",
       "└─────┴────────────┴─────────────────────┴────────┴────────┴─────────┘"
      ]
     },
     "execution_count": 76,
     "metadata": {},
     "output_type": "execute_result"
    }
   ],
   "source": [
    "df_pl.head()"
   ]
  },
  {
   "cell_type": "code",
   "execution_count": 73,
   "id": "050df9c7",
   "metadata": {},
   "outputs": [
    {
     "data": {
      "text/plain": [
       "id         object\n",
       "date       object\n",
       "office     object\n",
       "sales     float64\n",
       "dtype: object"
      ]
     },
     "execution_count": 73,
     "metadata": {},
     "output_type": "execute_result"
    }
   ],
   "source": [
    "df_pd.dtypes"
   ]
  },
  {
   "cell_type": "code",
   "execution_count": 77,
   "id": "f6c1374b",
   "metadata": {},
   "outputs": [
    {
     "data": {
      "text/plain": [
       "[Int64, String, String, String, Float64, Float64]"
      ]
     },
     "execution_count": 77,
     "metadata": {},
     "output_type": "execute_result"
    }
   ],
   "source": [
    "df_pl.dtypes"
   ]
  },
  {
   "cell_type": "markdown",
   "id": "810cddb0",
   "metadata": {},
   "source": [
    "### Groupby and Aggregation Test"
   ]
  },
  {
   "cell_type": "code",
   "execution_count": 78,
   "id": "61265825",
   "metadata": {},
   "outputs": [],
   "source": [
    "convert_to_date = ['date']"
   ]
  },
  {
   "cell_type": "code",
   "execution_count": 79,
   "id": "3a916425",
   "metadata": {},
   "outputs": [
    {
     "name": "stderr",
     "output_type": "stream",
     "text": [
      "/var/folders/sz/bnngcgwd3n50tz13wnb4rzbc0000gn/T/ipykernel_59071/1012315351.py:3: ChronoFormatWarning: Detected the pattern `.%f` in the chrono format string. This pattern should not be used to parse values after a decimal point. Use `%.f` instead. See the full specification: https://docs.rs/chrono/latest/chrono/format/strftime\n",
      "  pl.col(convert_to_date).str.strptime(\n"
     ]
    }
   ],
   "source": [
    "df_pl = (\n",
    "    df_pl.with_columns([\n",
    "        pl.col(convert_to_date).str.strptime(\n",
    "            pl.Date,\n",
    "            format='%m/%d/%Y %H:%M:%s.%f', strict=False\n",
    "        )\n",
    "    ])\n",
    ")"
   ]
  },
  {
   "cell_type": "code",
   "execution_count": 80,
   "id": "86e2c5be",
   "metadata": {},
   "outputs": [
    {
     "data": {
      "text/plain": [
       "[Int64, String, Date, String, Float64, Float64]"
      ]
     },
     "execution_count": 80,
     "metadata": {},
     "output_type": "execute_result"
    }
   ],
   "source": [
    "df_pl.dtypes"
   ]
  },
  {
   "cell_type": "code",
   "execution_count": 81,
   "id": "379e6d66",
   "metadata": {},
   "outputs": [
    {
     "data": {
      "text/html": [
       "<div><style>\n",
       ".dataframe > thead > tr,\n",
       ".dataframe > tbody > tr {\n",
       "  text-align: right;\n",
       "  white-space: pre-wrap;\n",
       "}\n",
       "</style>\n",
       "<small>shape: (5, 6)</small><table border=\"1\" class=\"dataframe\"><thead><tr><th></th><th>id</th><th>date</th><th>office</th><th>sales</th><th>revenue</th></tr><tr><td>i64</td><td>str</td><td>date</td><td>str</td><td>f64</td><td>f64</td></tr></thead><tbody><tr><td>1</td><td>&quot;EFvyruFfRL&quot;</td><td>null</td><td>&quot;France&quot;</td><td>3330.0</td><td>8467.0</td></tr><tr><td>10</td><td>&quot;yGDQylTcdt&quot;</td><td>null</td><td>&quot;France&quot;</td><td>9433.0</td><td>5379.0</td></tr><tr><td>29</td><td>&quot;ZmygvMHAgE&quot;</td><td>null</td><td>&quot;France&quot;</td><td>4489.0</td><td>3457.0</td></tr><tr><td>39</td><td>&quot;XYwhkEaoLw&quot;</td><td>null</td><td>&quot;France&quot;</td><td>8652.0</td><td>1767.0</td></tr><tr><td>47</td><td>&quot;TlkTQYaUZM&quot;</td><td>null</td><td>&quot;France&quot;</td><td>5524.0</td><td>1242.0</td></tr></tbody></table></div>"
      ],
      "text/plain": [
       "shape: (5, 6)\n",
       "┌─────┬────────────┬──────┬────────┬────────┬─────────┐\n",
       "│     ┆ id         ┆ date ┆ office ┆ sales  ┆ revenue │\n",
       "│ --- ┆ ---        ┆ ---  ┆ ---    ┆ ---    ┆ ---     │\n",
       "│ i64 ┆ str        ┆ date ┆ str    ┆ f64    ┆ f64     │\n",
       "╞═════╪════════════╪══════╪════════╪════════╪═════════╡\n",
       "│ 1   ┆ EFvyruFfRL ┆ null ┆ France ┆ 3330.0 ┆ 8467.0  │\n",
       "│ 10  ┆ yGDQylTcdt ┆ null ┆ France ┆ 9433.0 ┆ 5379.0  │\n",
       "│ 29  ┆ ZmygvMHAgE ┆ null ┆ France ┆ 4489.0 ┆ 3457.0  │\n",
       "│ 39  ┆ XYwhkEaoLw ┆ null ┆ France ┆ 8652.0 ┆ 1767.0  │\n",
       "│ 47  ┆ TlkTQYaUZM ┆ null ┆ France ┆ 5524.0 ┆ 1242.0  │\n",
       "└─────┴────────────┴──────┴────────┴────────┴─────────┘"
      ]
     },
     "execution_count": 81,
     "metadata": {},
     "output_type": "execute_result"
    }
   ],
   "source": [
    "df_pl.head()"
   ]
  },
  {
   "cell_type": "markdown",
   "id": "8c1034a3",
   "metadata": {},
   "source": [
    "### Mean"
   ]
  },
  {
   "cell_type": "code",
   "execution_count": 91,
   "id": "71569a5c",
   "metadata": {},
   "outputs": [],
   "source": [
    "df_pd['date'] = pd.to_datetime(df_pd['date'],errors='coerce')\n",
    "df_pd['date'] = df_pd['date'].dt.strftime('%Y-%m-%d %H:%M:%S')\n",
    "df_pd['date'] = pd.to_datetime(df_pd['date'],errors='coerce')"
   ]
  },
  {
   "cell_type": "code",
   "execution_count": 92,
   "id": "a206f443",
   "metadata": {},
   "outputs": [
    {
     "data": {
      "text/plain": [
       "id                object\n",
       "date      datetime64[ns]\n",
       "office            object\n",
       "sales            float64\n",
       "dat       datetime64[ns]\n",
       "dtype: object"
      ]
     },
     "execution_count": 92,
     "metadata": {},
     "output_type": "execute_result"
    }
   ],
   "source": [
    "df_pd.dtypes"
   ]
  },
  {
   "cell_type": "code",
   "execution_count": 93,
   "id": "3433df7a",
   "metadata": {},
   "outputs": [
    {
     "name": "stdout",
     "output_type": "stream",
     "text": [
      "pandas Loading Time = 1.773756742477417\n"
     ]
    }
   ],
   "source": [
    "s = time.time()\n",
    "df_pd.groupby([df_pd.office, df_pd.date.dt.month])['sales'].agg('mean')\n",
    "e = time.time()\n",
    "pd_time= e-s\n",
    "print(\"pandas Loading Time = {}\".format(pd_time))"
   ]
  },
  {
   "cell_type": "code",
   "execution_count": 94,
   "id": "8debd070",
   "metadata": {},
   "outputs": [
    {
     "name": "stdout",
     "output_type": "stream",
     "text": [
      "polars Loading Time = 0.1337730884552002\n"
     ]
    },
    {
     "name": "stderr",
     "output_type": "stream",
     "text": [
      "/var/folders/sz/bnngcgwd3n50tz13wnb4rzbc0000gn/T/ipykernel_59071/2258123832.py:2: DeprecationWarning: `groupby` is deprecated. It has been renamed to `group_by`.\n",
      "  df_pl.groupby([pl.col('office'), pl.col('date').dt.month()]).agg([pl.mean('sales')])\n"
     ]
    }
   ],
   "source": [
    "s = time.time()\n",
    "df_pl.groupby([pl.col('office'), pl.col('date').dt.month()]).agg([pl.mean('sales')])\n",
    "e = time.time()\n",
    "pl_time= e-s\n",
    "print(\"polars Loading Time = {}\".format(pl_time))"
   ]
  },
  {
   "cell_type": "code",
   "execution_count": 95,
   "id": "fd107349",
   "metadata": {},
   "outputs": [
    {
     "data": {
      "image/png": "[encoded data removed]",
      "text/plain": [
       "<Figure size 600x400 with 1 Axes>"
      ]
     },
     "metadata": {},
     "output_type": "display_data"
    }
   ],
   "source": [
    "plot_comparison(pd_time, pl_time, 'Groupby mean')"
   ]
  },
  {
   "cell_type": "markdown",
   "id": "f67d8a44",
   "metadata": {},
   "source": [
    "### Median"
   ]
  },
  {
   "cell_type": "code",
   "execution_count": 96,
   "id": "b5f080ea",
   "metadata": {},
   "outputs": [
    {
     "name": "stdout",
     "output_type": "stream",
     "text": [
      "pandas Loading Time = 1.9788939952850342\n"
     ]
    }
   ],
   "source": [
    "s = time.time()\n",
    "df_pd.groupby([df_pd.office, df_pd.date.dt.month])['sales'].agg('median')\n",
    "e = time.time()\n",
    "pd_time= e-s\n",
    "print(\"pandas Loading Time = {}\".format(pd_time))"
   ]
  },
  {
   "cell_type": "code",
   "execution_count": 97,
   "id": "e34d1bad",
   "metadata": {},
   "outputs": [
    {
     "name": "stdout",
     "output_type": "stream",
     "text": [
      "polars Loading Time = 0.13085007667541504\n"
     ]
    },
    {
     "name": "stderr",
     "output_type": "stream",
     "text": [
      "/var/folders/sz/bnngcgwd3n50tz13wnb4rzbc0000gn/T/ipykernel_59071/3082775015.py:2: DeprecationWarning: `groupby` is deprecated. It has been renamed to `group_by`.\n",
      "  df_pl.groupby([pl.col('office'), pl.col('date').dt.month()]).agg([pl.median('sales')])\n"
     ]
    }
   ],
   "source": [
    "s = time.time()\n",
    "df_pl.groupby([pl.col('office'), pl.col('date').dt.month()]).agg([pl.median('sales')])\n",
    "e = time.time()\n",
    "pl_time= e-s\n",
    "print(\"polars Loading Time = {}\".format(pl_time))"
   ]
  },
  {
   "cell_type": "code",
   "execution_count": 98,
   "id": "55e8f4e7",
   "metadata": {},
   "outputs": [
    {
     "data": {
      "image/png": "[encoded data removed]",
      "text/plain": [
       "<Figure size 600x400 with 1 Axes>"
      ]
     },
     "metadata": {},
     "output_type": "display_data"
    }
   ],
   "source": [
    "plot_comparison(pd_time, pl_time, 'Groupby median')"
   ]
  },
  {
   "cell_type": "markdown",
   "id": "c3c74381",
   "metadata": {},
   "source": [
    "### Rolling Mean Test"
   ]
  },
  {
   "cell_type": "code",
   "execution_count": 99,
   "id": "917a5865",
   "metadata": {},
   "outputs": [],
   "source": [
    "df_pd= df_pd.set_index('date')"
   ]
  },
  {
   "cell_type": "code",
   "execution_count": 100,
   "id": "a73463d9",
   "metadata": {},
   "outputs": [
    {
     "name": "stdout",
     "output_type": "stream",
     "text": [
      "pandas Loading Time = 0.5058209896087646\n"
     ]
    }
   ],
   "source": [
    "s = time.time()\n",
    "df_pd['sales'].rolling(1440, min_periods=1).mean()\n",
    "e = time.time()\n",
    "pd_time= e-s\n",
    "print(\"pandas Loading Time = {}\".format(pd_time))"
   ]
  },
  {
   "cell_type": "code",
   "execution_count": 102,
   "id": "f441fad4",
   "metadata": {},
   "outputs": [
    {
     "name": "stdout",
     "output_type": "stream",
     "text": [
      "polars Loading Time = 0.04566216468811035\n"
     ]
    }
   ],
   "source": [
    "s = time.time()\n",
    "df_pl['sales'].rolling_mean(1440, min_periods=1)\n",
    "e = time.time()\n",
    "pl_time= e-s\n",
    "print(\"polars Loading Time = {}\".format(pl_time))"
   ]
  },
  {
   "cell_type": "code",
   "execution_count": 103,
   "id": "0811de61",
   "metadata": {},
   "outputs": [
    {
     "data": {
      "image/png": "[encoded data removed]",
      "text/plain": [
       "<Figure size 600x400 with 1 Axes>"
      ]
     },
     "metadata": {},
     "output_type": "display_data"
    }
   ],
   "source": [
    "plot_comparison(pd_time, pl_time, '1-Day Rolling average')"
   ]
  },
  {
   "cell_type": "markdown",
   "id": "d8aed4a2",
   "metadata": {},
   "source": [
    "### Finding sum of 10 million observations"
   ]
  },
  {
   "cell_type": "markdown",
   "id": "e5ac1e93",
   "metadata": {},
   "source": [
    "### Pandas"
   ]
  },
  {
   "cell_type": "code",
   "execution_count": 104,
   "id": "450f5438",
   "metadata": {},
   "outputs": [],
   "source": [
    "# create random DataFrame with 10 million rows and 2 columns\n",
    "pd_df = pd.DataFrame(np.random.rand(10000000, 2), columns=['a', 'b'])\n"
   ]
  },
  {
   "cell_type": "code",
   "execution_count": 105,
   "id": "ed0aece5",
   "metadata": {},
   "outputs": [
    {
     "data": {
      "text/html": [
       "<div>\n",
       "<style scoped>\n",
       "    .dataframe tbody tr th:only-of-type {\n",
       "        vertical-align: middle;\n",
       "    }\n",
       "\n",
       "    .dataframe tbody tr th {\n",
       "        vertical-align: top;\n",
       "    }\n",
       "\n",
       "    .dataframe thead th {\n",
       "        text-align: right;\n",
       "    }\n",
       "</style>\n",
       "<table border=\"1\" class=\"dataframe\">\n",
       "  <thead>\n",
       "    <tr style=\"text-align: right;\">\n",
       "      <th></th>\n",
       "      <th>a</th>\n",
       "      <th>b</th>\n",
       "    </tr>\n",
       "  </thead>\n",
       "  <tbody>\n",
       "    <tr>\n",
       "      <th>0</th>\n",
       "      <td>0.817927</td>\n",
       "      <td>0.109098</td>\n",
       "    </tr>\n",
       "    <tr>\n",
       "      <th>1</th>\n",
       "      <td>0.834262</td>\n",
       "      <td>0.626034</td>\n",
       "    </tr>\n",
       "    <tr>\n",
       "      <th>2</th>\n",
       "      <td>0.510619</td>\n",
       "      <td>0.560033</td>\n",
       "    </tr>\n",
       "    <tr>\n",
       "      <th>3</th>\n",
       "      <td>0.744468</td>\n",
       "      <td>0.297637</td>\n",
       "    </tr>\n",
       "    <tr>\n",
       "      <th>4</th>\n",
       "      <td>0.943477</td>\n",
       "      <td>0.307637</td>\n",
       "    </tr>\n",
       "  </tbody>\n",
       "</table>\n",
       "</div>"
      ],
      "text/plain": [
       "          a         b\n",
       "0  0.817927  0.109098\n",
       "1  0.834262  0.626034\n",
       "2  0.510619  0.560033\n",
       "3  0.744468  0.297637\n",
       "4  0.943477  0.307637"
      ]
     },
     "execution_count": 105,
     "metadata": {},
     "output_type": "execute_result"
    }
   ],
   "source": [
    "pd_df.head()"
   ]
  },
  {
   "cell_type": "code",
   "execution_count": 106,
   "id": "b277ebb0",
   "metadata": {},
   "outputs": [
    {
     "name": "stdout",
     "output_type": "stream",
     "text": [
      "161 ms ± 1.7 ms per loop (mean ± std. dev. of 7 runs, 1 loop each)\n"
     ]
    }
   ],
   "source": [
    "# compute sum of each column using Pandas\n",
    "%timeit pd_df.sum()"
   ]
  },
  {
   "cell_type": "markdown",
   "id": "2ee5f98e",
   "metadata": {},
   "source": [
    "### Polars"
   ]
  },
  {
   "cell_type": "code",
   "execution_count": 107,
   "id": "071d2136",
   "metadata": {},
   "outputs": [],
   "source": [
    "# create random DataFrame with 10 million rows and 2 columns\n",
    "pl_df = pl.DataFrame({\n",
    "    'a': np.random.rand(10000000),\n",
    "    'b': np.random.rand(10000000)})\n"
   ]
  },
  {
   "cell_type": "code",
   "execution_count": 108,
   "id": "29cdbc98",
   "metadata": {},
   "outputs": [
    {
     "data": {
      "text/html": [
       "<div><style>\n",
       ".dataframe > thead > tr,\n",
       ".dataframe > tbody > tr {\n",
       "  text-align: right;\n",
       "  white-space: pre-wrap;\n",
       "}\n",
       "</style>\n",
       "<small>shape: (5, 2)</small><table border=\"1\" class=\"dataframe\"><thead><tr><th>a</th><th>b</th></tr><tr><td>f64</td><td>f64</td></tr></thead><tbody><tr><td>0.909448</td><td>0.259213</td></tr><tr><td>0.152014</td><td>0.911691</td></tr><tr><td>0.869773</td><td>0.460136</td></tr><tr><td>0.963704</td><td>0.713441</td></tr><tr><td>0.980983</td><td>0.023215</td></tr></tbody></table></div>"
      ],
      "text/plain": [
       "shape: (5, 2)\n",
       "┌──────────┬──────────┐\n",
       "│ a        ┆ b        │\n",
       "│ ---      ┆ ---      │\n",
       "│ f64      ┆ f64      │\n",
       "╞══════════╪══════════╡\n",
       "│ 0.909448 ┆ 0.259213 │\n",
       "│ 0.152014 ┆ 0.911691 │\n",
       "│ 0.869773 ┆ 0.460136 │\n",
       "│ 0.963704 ┆ 0.713441 │\n",
       "│ 0.980983 ┆ 0.023215 │\n",
       "└──────────┴──────────┘"
      ]
     },
     "execution_count": 108,
     "metadata": {},
     "output_type": "execute_result"
    }
   ],
   "source": [
    "pl_df.head()"
   ]
  },
  {
   "cell_type": "code",
   "execution_count": 109,
   "id": "9d8f47bc",
   "metadata": {},
   "outputs": [
    {
     "name": "stdout",
     "output_type": "stream",
     "text": [
      "2.86 ms ± 49 µs per loop (mean ± std. dev. of 7 runs, 100 loops each)\n"
     ]
    }
   ],
   "source": [
    "# compute sum of each column using Polar\n",
    "%timeit pl_df.sum()"
   ]
  },
  {
   "cell_type": "code",
   "execution_count": null,
   "id": "be30a1d7",
   "metadata": {},
   "outputs": [],
   "source": []
  },
  {
   "cell_type": "markdown",
   "id": "cdf401c8",
   "metadata": {},
   "source": [
    "### References"
   ]
  },
  {
   "cell_type": "markdown",
   "id": "2ee6b7ea",
   "metadata": {},
   "source": [
    "https://medium.com/illumination/pandas-vs-polars-performance-battle-4feb2d839b73"
   ]
  },
  {
   "cell_type": "markdown",
   "id": "b1b6f918",
   "metadata": {},
   "source": [
    "https://www.datacamp.com/tutorial/high-performance-data-manipulation-in-python-pandas2-vs-polars"
   ]
  },
  {
   "cell_type": "markdown",
   "id": "2a3069a3",
   "metadata": {},
   "source": [
    "https://www.linkedin.com/pulse/polars-vs-pandas-which-one-faster-benchmarking-analysis-saleem/"
   ]
  },
  {
   "cell_type": "markdown",
   "id": "1270ed0a",
   "metadata": {},
   "source": [
    "https://www.datacamp.com/blog/an-introduction-to-polars-python-s-tool-for-large-scale-data-analysis"
   ]
  },
  {
   "cell_type": "markdown",
   "id": "5dfe8b06",
   "metadata": {},
   "source": [
    "https://ioflood.com/blog/polars/"
   ]
  },
  {
   "cell_type": "code",
   "execution_count": null,
   "id": "27a7c804",
   "metadata": {},
   "outputs": [],
   "source": []
  }
 ],
 "metadata": {
  "kernelspec": {
   "display_name": "Python 3 (ipykernel)",
   "language": "python",
   "name": "python3"
  },
  "language_info": {
   "codemirror_mode": {
    "name": "ipython",
    "version": 3
   },
   "file_extension": ".py",
   "mimetype": "text/x-python",
   "name": "python",
   "nbconvert_exporter": "python",
   "pygments_lexer": "ipython3",
   "version": "3.11.3"
  }
 },
 "nbformat": 4,
 "nbformat_minor": 5
}
